{
  "nbformat": 4,
  "nbformat_minor": 0,
  "metadata": {
    "colab": {
      "name": "confusionMatrix.ipynb",
      "provenance": [],
      "collapsed_sections": [],
      "mount_file_id": "1TyDiXEtBQbXiTcJW9nimin3scA0H9Fjs",
      "authorship_tag": "ABX9TyNINe3vMjigOoS1DqsIiwA/",
      "include_colab_link": true
    },
    "kernelspec": {
      "name": "python3",
      "display_name": "Python 3"
    },
    "language_info": {
      "name": "python"
    },
    "accelerator": "GPU"
  },
  "cells": [
    {
      "cell_type": "markdown",
      "metadata": {
        "id": "view-in-github",
        "colab_type": "text"
      },
      "source": [
        "<a href=\"https://colab.research.google.com/github/RoshanChongder/IMAGE-PROCESSING-AND-FACIAL-EMOTION-DETECTION/blob/master/confusionMatrix.ipynb\" target=\"_parent\"><img src=\"https://colab.research.google.com/assets/colab-badge.svg\" alt=\"Open In Colab\"/></a>"
      ]
    },
    {
      "cell_type": "markdown",
      "metadata": {
        "id": "7saPqm08VH96"
      },
      "source": [
        "First , we will load the trained model "
      ]
    },
    {
      "cell_type": "code",
      "metadata": {
        "colab": {
          "base_uri": "https://localhost:8080/"
        },
        "id": "cJjM3O46VTGv",
        "outputId": "cad40460-f4d2-48a1-ec3c-130af3125c3a"
      },
      "source": [
        "from google.colab import drive\n",
        "drive.mount('/content/drive')"
      ],
      "execution_count": null,
      "outputs": [
        {
          "output_type": "stream",
          "text": [
            "Drive already mounted at /content/drive; to attempt to forcibly remount, call drive.mount(\"/content/drive\", force_remount=True).\n"
          ],
          "name": "stdout"
        }
      ]
    },
    {
      "cell_type": "code",
      "metadata": {
        "id": "Md3chI-LNfdU"
      },
      "source": [
        "# import the required libraries \n",
        "from IPython.display import display, Javascript, Image\n",
        "from google.colab.output import eval_js\n",
        "from base64 import b64decode, b64encode\n",
        "import cv2 , os , time , html \n",
        "import numpy as np\n",
        "import PIL , io\n",
        "from keras.preprocessing import image\n",
        "from keras.models import model_from_json "
      ],
      "execution_count": 2,
      "outputs": []
    },
    {
      "cell_type": "code",
      "metadata": {
        "colab": {
          "base_uri": "https://localhost:8080/"
        },
        "id": "HRB1N-yqNnEu",
        "outputId": "208fdf27-050b-4459-aa91-3941030369da"
      },
      "source": [
        "#drive/MyDrive/EmotionDetection/Model_Training_Op/24_06_1/model/\n",
        "model = model_from_json( open('drive/MyDrive/EmotionDetection/Model_Training_Op/24_06/model/fer.json','r').read() )\n",
        "# drive/MyDrive/EmotionDetection/Model_Training_Op/24_06_1/model/\n",
        "model.load_weights( 'drive/MyDrive/EmotionDetection/Model_Training_Op/24_06_1/model/fer.h5' )\n",
        "print('The model is been loadded with weights')"
      ],
      "execution_count": 3,
      "outputs": [
        {
          "output_type": "stream",
          "text": [
            "The model is been loadded with weights\n"
          ],
          "name": "stdout"
        }
      ]
    },
    {
      "cell_type": "code",
      "metadata": {
        "id": "B8OdD7LvN92H"
      },
      "source": [
        "# function to convert the JavaScript object into an OpenCV image\n",
        "def js_to_image(js_reply):\n",
        "  image_bytes = b64decode(js_reply.split(',')[1])\n",
        "  jpg_as_np = np.frombuffer(image_bytes, dtype=np.uint8)\n",
        "  img = cv2.imdecode(jpg_as_np, flags=1)\n",
        "  return img\n",
        "\n",
        "\n",
        "def bbox_to_bytes(bbox_array):\n",
        "  # convert array into PIL image\n",
        "  bbox_PIL = PIL.Image.fromarray(bbox_array, 'RGBA')\n",
        "  iobuf = io.BytesIO()\n",
        "  bbox_PIL.save(iobuf, format='png') # format bbox into png for return\n",
        "  bbox_bytes = 'data:image/png;base64,{}'.format((str(b64encode(iobuf.getvalue()), 'utf-8')))  # format return string\n",
        "\n",
        "  return bbox_bytes\n",
        "  "
      ],
      "execution_count": 4,
      "outputs": []
    },
    {
      "cell_type": "code",
      "metadata": {
        "id": "fPphwyLAN-oJ"
      },
      "source": [
        "# Haar Cascade face detection model\n",
        "face_cascade = cv2.CascadeClassifier(cv2.samples.findFile(cv2.data.haarcascades + 'haarcascade_frontalface_default.xml'))"
      ],
      "execution_count": 5,
      "outputs": []
    },
    {
      "cell_type": "code",
      "metadata": {
        "id": "cs8Wm3DAOCHx"
      },
      "source": [
        "def take_photo( loc , quality=0.8 ):\n",
        "\n",
        "  ''' This method receives a location of an image .\n",
        "  Then it reads the image and then predicts the emotion of \n",
        "  the face present in the image ''' \n",
        "\n",
        "\n",
        "  # read the image from the drive location that is passed \n",
        "  img = cv2.imread( loc , cv2.IMREAD_COLOR )\n",
        "  \n",
        "  # convertion to grayscale \n",
        "  gray_img = cv2.cvtColor(img, cv2.COLOR_RGB2GRAY)\n",
        "  #print(gray_img.shape)\n",
        "\n",
        "  # get face bounding box coordinates using Haar Cascade\n",
        "  faces = face_cascade.detectMultiScale(gray_img)\n",
        "  \n",
        "  # create transparent overlay for bounding box\n",
        "  bbox_array = np.zeros([480,640,4], dtype=np.uint8)\n",
        "  \n",
        "  predicted = []\n",
        "\n",
        "  # draw face bounding box on image\n",
        "  for (x,y,w,h) in faces:\n",
        "\n",
        "      img = cv2.rectangle(img,(x,y),(x+w,y+h),(255,0,0),2) # placing the rectangle around the face \n",
        "      cropped_gray = gray_img[y:y+w,x:x+h]  # cropping the face from the image \n",
        "      cropped_gray = cv2.resize(cropped_gray,(48,48)) # resizing the image \n",
        "      img_pixels = image.img_to_array(cropped_gray)  # getting the image pixeles into array \n",
        "      img_pixels = np.expand_dims(img_pixels, axis = 0) # expanding dim \n",
        "      img_pixels /= 255\n",
        "\n",
        "      predictions = model.predict(img_pixels)  # predicting \n",
        "        #print( predictions )\n",
        "        #find max indexed array\n",
        "      index = np.argmax(predictions[0]) \n",
        "        \n",
        "      emotions = ('angry', 'disgust', 'fear', 'happy', 'sad', 'surprise', 'neutral')\n",
        "      predicted_emotion = emotions[index]  \n",
        "      predicted.append( index  )\n",
        "      #print( predicted_emotion )\n",
        "      cv2.putText( img, predicted_emotion, (int(x), int(y)), cv2.FONT_HERSHEY_SIMPLEX, 1, (0,0,255), 2)\n",
        " \n",
        "  return [ img , predicted ]"
      ],
      "execution_count": 6,
      "outputs": []
    },
    {
      "cell_type": "code",
      "metadata": {
        "colab": {
          "base_uri": "https://localhost:8080/"
        },
        "id": "ywNuhNuqOPZo",
        "outputId": "9b829201-dc0f-49b2-9d01-746c0c44112b"
      },
      "source": [
        "# from where all the images will be read \n",
        "directory = 'drive/MyDrive/EmotionDetection/Model_Training_Op/images'   \n",
        "\n",
        "# d is for directory refference and tag  \n",
        "# actual and pre will store actual emotion and predicted emotion \n",
        "d , actual , pre = { \"angry\" : 0 , \"happy\" : 3 , \"sad\" : 4 , \"surprise\" : 5 , \"neutral\" : 6 } , [] , [] \n",
        "\n",
        "for dir in os.listdir(directory) : \n",
        "  tag = None \n",
        "  \n",
        "  if dir in d :\n",
        "    tag = d[dir]  # getting the tag correspondin to the dir  \n",
        "  else :\n",
        "    print( dir , \" not found in \" , d )\n",
        "    break \n",
        "\n",
        "  subdir = os.path.join( directory, dir ) # selecting a certain sub-directory \n",
        "  print( \"Processing the direcotry : \" , subdir , \"\\n\\n\")\n",
        "\n",
        "  for files in os.listdir(subdir) :\n",
        "    try :\n",
        "      name = os.path.join( subdir , files ) # name of the file \n",
        "      if os.path.isfile( name ):\n",
        "        img , predicted = take_photo( name )  # calling take with image location in drive  \n",
        "        if len(predicted) != 0 :\n",
        "          print( \"Actual \" , tag , \"Predicted value \" , predicted )  # printing the predicted value\n",
        "          actual.append(tag) # for debugging \n",
        "          pre.append(  tag if ( tag in predicted ) else predicted[0]  )\n",
        "          print(actual[-1] , pre[-1]) # for debugging \n",
        "          cv2.imwrite( subdir + \"/predicted/\" + files , img  ) \n",
        "        else :\n",
        "          print(\"Model not able to predict for \" , name )\n",
        "    except Exception as err:\n",
        "      # Errors will be thrown if the user does not have a webcam or if they do not\n",
        "      # grant the page permission to access it.\n",
        "      print(str(err))\n",
        "\n",
        "print(actual , pre )\n",
        " "
      ],
      "execution_count": 7,
      "outputs": [
        {
          "output_type": "stream",
          "text": [
            "Processing the direcotry :  drive/MyDrive/EmotionDetection/Model_Training_Op/images/happy \n",
            "\n",
            "\n",
            "Actual  3 Predicted value  [3, 4]\n",
            "3 3\n",
            "Actual  3 Predicted value  [3, 6]\n",
            "3 3\n",
            "Actual  3 Predicted value  [3]\n",
            "3 3\n",
            "Actual  3 Predicted value  [3, 6]\n",
            "3 3\n",
            "Actual  3 Predicted value  [0]\n",
            "3 0\n",
            "Actual  3 Predicted value  [3]\n",
            "3 3\n",
            "Actual  3 Predicted value  [3]\n",
            "3 3\n",
            "Actual  3 Predicted value  [3]\n",
            "3 3\n",
            "Actual  3 Predicted value  [3]\n",
            "3 3\n",
            "Model not able to predict for  drive/MyDrive/EmotionDetection/Model_Training_Op/images/happy/happy9.jpg\n",
            "Actual  3 Predicted value  [3]\n",
            "3 3\n",
            "Actual  3 Predicted value  [3]\n",
            "3 3\n",
            "Actual  3 Predicted value  [3, 6, 6, 6, 0, 6, 3, 6]\n",
            "3 3\n",
            "Actual  3 Predicted value  [3, 6]\n",
            "3 3\n",
            "Actual  3 Predicted value  [3, 4]\n",
            "3 3\n",
            "Actual  3 Predicted value  [0]\n",
            "3 0\n",
            "Actual  3 Predicted value  [0, 6]\n",
            "3 0\n",
            "Processing the direcotry :  drive/MyDrive/EmotionDetection/Model_Training_Op/images/angry \n",
            "\n",
            "\n",
            "Actual  0 Predicted value  [0]\n",
            "0 0\n",
            "Actual  0 Predicted value  [0]\n",
            "0 0\n",
            "Actual  0 Predicted value  [6]\n",
            "0 6\n",
            "Actual  0 Predicted value  [6]\n",
            "0 6\n",
            "Actual  0 Predicted value  [0]\n",
            "0 0\n",
            "Actual  0 Predicted value  [0]\n",
            "0 0\n",
            "Actual  0 Predicted value  [0]\n",
            "0 0\n",
            "Actual  0 Predicted value  [6, 6]\n",
            "0 6\n",
            "Actual  0 Predicted value  [0]\n",
            "0 0\n",
            "Actual  0 Predicted value  [3]\n",
            "0 3\n",
            "Actual  0 Predicted value  [4]\n",
            "0 4\n",
            "Processing the direcotry :  drive/MyDrive/EmotionDetection/Model_Training_Op/images/sad \n",
            "\n",
            "\n",
            "Actual  4 Predicted value  [4]\n",
            "4 4\n",
            "Actual  4 Predicted value  [4]\n",
            "4 4\n",
            "Actual  4 Predicted value  [4, 6]\n",
            "4 4\n",
            "Actual  4 Predicted value  [6]\n",
            "4 6\n",
            "Model not able to predict for  drive/MyDrive/EmotionDetection/Model_Training_Op/images/sad/sad6.jpg\n",
            "Model not able to predict for  drive/MyDrive/EmotionDetection/Model_Training_Op/images/sad/sad7.png\n",
            "Actual  4 Predicted value  [3]\n",
            "4 3\n",
            "Actual  4 Predicted value  [4]\n",
            "4 4\n",
            "Actual  4 Predicted value  [6]\n",
            "4 6\n",
            "Actual  4 Predicted value  [4]\n",
            "4 4\n",
            "Actual  4 Predicted value  [3]\n",
            "4 3\n",
            "Actual  4 Predicted value  [4]\n",
            "4 4\n",
            "Processing the direcotry :  drive/MyDrive/EmotionDetection/Model_Training_Op/images/neutral \n",
            "\n",
            "\n",
            "Actual  6 Predicted value  [6, 6]\n",
            "6 6\n",
            "Actual  6 Predicted value  [6]\n",
            "6 6\n",
            "Actual  6 Predicted value  [6]\n",
            "6 6\n",
            "Actual  6 Predicted value  [4]\n",
            "6 4\n",
            "Actual  6 Predicted value  [6, 6, 6]\n",
            "6 6\n",
            "Actual  6 Predicted value  [6, 6, 6, 6, 6, 6, 6, 6]\n",
            "6 6\n",
            "Actual  6 Predicted value  [6, 6]\n",
            "6 6\n",
            "Actual  6 Predicted value  [6]\n",
            "6 6\n",
            "Actual  6 Predicted value  [5]\n",
            "6 5\n",
            "Actual  6 Predicted value  [6]\n",
            "6 6\n",
            "Actual  6 Predicted value  [6]\n",
            "6 6\n",
            "Actual  6 Predicted value  [0, 6, 6]\n",
            "6 6\n",
            "Processing the direcotry :  drive/MyDrive/EmotionDetection/Model_Training_Op/images/surprise \n",
            "\n",
            "\n",
            "Actual  5 Predicted value  [6, 6]\n",
            "5 6\n",
            "Actual  5 Predicted value  [6, 5, 6]\n",
            "5 5\n",
            "Actual  5 Predicted value  [5]\n",
            "5 5\n",
            "Actual  5 Predicted value  [5]\n",
            "5 5\n",
            "Actual  5 Predicted value  [5]\n",
            "5 5\n",
            "Actual  5 Predicted value  [5]\n",
            "5 5\n",
            "[3, 3, 3, 3, 3, 3, 3, 3, 3, 3, 3, 3, 3, 3, 3, 3, 0, 0, 0, 0, 0, 0, 0, 0, 0, 0, 0, 4, 4, 4, 4, 4, 4, 4, 4, 4, 4, 6, 6, 6, 6, 6, 6, 6, 6, 6, 6, 6, 6, 5, 5, 5, 5, 5, 5] [3, 3, 3, 3, 0, 3, 3, 3, 3, 3, 3, 3, 3, 3, 0, 0, 0, 0, 6, 6, 0, 0, 0, 6, 0, 3, 4, 4, 4, 4, 6, 3, 4, 6, 4, 3, 4, 6, 6, 6, 4, 6, 6, 6, 6, 5, 6, 6, 6, 6, 5, 5, 5, 5, 5]\n"
          ],
          "name": "stdout"
        }
      ]
    },
    {
      "cell_type": "code",
      "metadata": {
        "colab": {
          "base_uri": "https://localhost:8080/"
        },
        "id": "cyFYHuxfb-O3",
        "outputId": "09b53d0c-e476-4398-cdec-17257c89b50b"
      },
      "source": [
        "print(actual)\n",
        "print(pre)"
      ],
      "execution_count": 8,
      "outputs": [
        {
          "output_type": "stream",
          "text": [
            "[3, 3, 3, 3, 3, 3, 3, 3, 3, 3, 3, 3, 3, 3, 3, 3, 0, 0, 0, 0, 0, 0, 0, 0, 0, 0, 0, 4, 4, 4, 4, 4, 4, 4, 4, 4, 4, 6, 6, 6, 6, 6, 6, 6, 6, 6, 6, 6, 6, 5, 5, 5, 5, 5, 5]\n",
            "[3, 3, 3, 3, 0, 3, 3, 3, 3, 3, 3, 3, 3, 3, 0, 0, 0, 0, 6, 6, 0, 0, 0, 6, 0, 3, 4, 4, 4, 4, 6, 3, 4, 6, 4, 3, 4, 6, 6, 6, 4, 6, 6, 6, 6, 5, 6, 6, 6, 6, 5, 5, 5, 5, 5]\n"
          ],
          "name": "stdout"
        }
      ]
    },
    {
      "cell_type": "code",
      "metadata": {
        "id": "34RqZyl9cWqz"
      },
      "source": [
        "%matplotlib inline \n",
        "import matplotlib.pyplot as plt  \n",
        "import itertools \n",
        "from sklearn.metrics import confusion_matrix"
      ],
      "execution_count": 9,
      "outputs": []
    },
    {
      "cell_type": "code",
      "metadata": {
        "id": "SkD3r0mOdZZJ"
      },
      "source": [
        "c_matrix = confusion_matrix(y_true = actual , y_pred = pre )"
      ],
      "execution_count": 10,
      "outputs": []
    },
    {
      "cell_type": "code",
      "metadata": {
        "id": "WCJnZqt-dnsN"
      },
      "source": [
        "def plot_confusion_matrix( cm, classes, normalize=False, title='Confusion matrix', cmap=plt.cm.Blues):\n",
        "    \"\"\"\n",
        "    This function prints and plots the confusion matrix.\n",
        "    Normalization can be applied by setting `normalize=True`.\n",
        "    \"\"\"\n",
        "    plt.imshow(cm, interpolation='nearest', cmap=cmap)\n",
        "    plt.colorbar()\n",
        "    plt.title(title)\n",
        "    tick_marks = np.arange(len(classes))\n",
        "    plt.xticks(tick_marks, classes, rotation=45)\n",
        "    plt.yticks(tick_marks, classes)\n",
        "\n",
        "    if normalize:\n",
        "        cm = cm.astype('float') / cm.sum(axis=1)[:, np.newaxis]\n",
        "        print(\"Normalized confusion matrix\")\n",
        "    else:\n",
        "        print('Confusion matrix, without normalization')\n",
        "\n",
        "    print(cm)\n",
        "\n",
        "    thresh = cm.max() / 2.\n",
        "    for i, j in itertools.product(range(cm.shape[0]), range(cm.shape[1])):\n",
        "        plt.text(j, i, cm[i, j],\n",
        "            horizontalalignment=\"center\",\n",
        "            color=\"white\" if cm[i, j] > thresh else \"black\")\n",
        "\n",
        "    plt.tight_layout()\n",
        "    plt.ylabel('True label')\n",
        "    plt.xlabel('Predicted label')"
      ],
      "execution_count": 11,
      "outputs": []
    },
    {
      "cell_type": "code",
      "metadata": {
        "id": "9UrxkJ0RebTm"
      },
      "source": [
        "plot_labels = ['angry', 'happy', 'sad', 'surprise', 'neutral']"
      ],
      "execution_count": 12,
      "outputs": []
    },
    {
      "cell_type": "code",
      "metadata": {
        "id": "JPUoJFXhekoF",
        "colab": {
          "base_uri": "https://localhost:8080/",
          "height": 418
        },
        "outputId": "0d4308bb-c229-4b37-b46a-1c86ab569c73"
      },
      "source": [
        "plot_confusion_matrix( cm = c_matrix , classes = plot_labels , title='Confusion Matrix' )"
      ],
      "execution_count": 13,
      "outputs": [
        {
          "output_type": "stream",
          "text": [
            "Confusion matrix, without normalization\n",
            "[[ 6  1  1  0  3]\n",
            " [ 3 13  0  0  0]\n",
            " [ 0  2  6  0  2]\n",
            " [ 0  0  0  5  1]\n",
            " [ 0  0  1  1 10]]\n"
          ],
          "name": "stdout"
        },
        {
          "output_type": "display_data",
          "data": {
            "image/png": "[encoded data removed]",
            "text/plain": [
              "<Figure size 432x288 with 2 Axes>"
            ]
          },
          "metadata": {
            "tags": [],
            "needs_background": "light"
          }
        }
      ]
    },
    {
      "cell_type": "code",
      "metadata": {
        "colab": {
          "base_uri": "https://localhost:8080/"
        },
        "id": "E4IlmbWXKzci",
        "outputId": "e6c417be-6520-42bf-80bc-7d0c797cef47"
      },
      "source": [
        "print(c_matrix)"
      ],
      "execution_count": 14,
      "outputs": [
        {
          "output_type": "stream",
          "text": [
            "[[ 6  1  1  0  3]\n",
            " [ 3 13  0  0  0]\n",
            " [ 0  2  6  0  2]\n",
            " [ 0  0  0  5  1]\n",
            " [ 0  0  1  1 10]]\n"
          ],
          "name": "stdout"
        }
      ]
    },
    {
      "cell_type": "code",
      "metadata": {
        "colab": {
          "base_uri": "https://localhost:8080/"
        },
        "id": "M9_wh8wNmBuC",
        "outputId": "0bfcf175-572b-44ff-8831-4607f036505b"
      },
      "source": [
        "from sklearn.metrics import precision_score\n",
        "from sklearn.metrics import recall_score\n",
        "from sklearn.metrics import fbeta_score\n",
        "\n",
        "# lambda method for main 4 terms - TP , TN , FP and FN \n",
        "TruePositive = lambda conf_mat : sum( [ conf_mat[i][i] for i in range(len(conf_mat)) ] )\n",
        "TrueNegative = TruePositive   # as both will be the same case \n",
        "FalsePositive = lambda conf_mat : sum( [ conf_mat[i][j] for i in range(len(conf_mat))  for j in range(len(conf_mat)) ] ) - TruePositive(conf_mat)\n",
        "FalseNegative = FalsePositive # as both will be the same cse \n",
        "TotalSample = lambda conf_mat : sum( [ conf_mat[i][j] for i in range(len(conf_mat))  for j in range(len(conf_mat)) ] )\n",
        "\n",
        "\n",
        "\n",
        "# precession - sum of tp accross all class / sum of ( TP and FN across all class)\n",
        "# precession - TP / ( TP + FN )\n",
        "precession = TruePositive(c_matrix) / ( TruePositive(c_matrix) + FalseNegative(c_matrix) )\n",
        "print(\"Precession \" , precession )\n",
        "print( precision_score( actual, pre , average = 'micro' ) )\n",
        "\n",
        "\n",
        "\n",
        "# recall - sum of tp accross all class / sum of ( TP and FN across all class)\n",
        "# recall - TP / ( TP + FN )\n",
        "recall = TruePositive(c_matrix) / ( TruePositive(c_matrix) + FalseNegative(c_matrix) )\n",
        "print(\"Recall \" , precession )\n",
        "print( recall_score( actual, pre , average = 'micro' ) )\n",
        "\n",
        "\n",
        "# F2 score - (5*precession*recall) / (4*precession+recall) \n",
        "f2_score = (5*precession*recall) / (4*precession+recall) \n",
        "print(\"F2 score \" , f2_score )\n",
        "print( fbeta_score(actual, pre , beta = 2.0 , average = 'micro' ) )\n"
      ],
      "execution_count": 33,
      "outputs": [
        {
          "output_type": "stream",
          "text": [
            "Precession  0.7272727272727273\n",
            "0.7272727272727273\n",
            "Recall  0.7272727272727273\n",
            "0.7272727272727273\n",
            "F@ score  0.7272727272727274\n",
            "0.7272727272727274\n"
          ],
          "name": "stdout"
        }
      ]
    }
  ]
}
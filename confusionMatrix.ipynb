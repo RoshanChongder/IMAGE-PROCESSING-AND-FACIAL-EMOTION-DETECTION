{
  "nbformat": 4,
  "nbformat_minor": 0,
  "metadata": {
    "colab": {
      "name": "confusionMatrix.ipynb",
      "provenance": [],
      "collapsed_sections": [],
      "mount_file_id": "1TyDiXEtBQbXiTcJW9nimin3scA0H9Fjs",
      "authorship_tag": "ABX9TyOJmRQhf0HaJ85fNFUj6IHF",
      "include_colab_link": true
    },
    "kernelspec": {
      "name": "python3",
      "display_name": "Python 3"
    },
    "language_info": {
      "name": "python"
    },
    "accelerator": "GPU"
  },
  "cells": [
    {
      "cell_type": "markdown",
      "metadata": {
        "id": "view-in-github",
        "colab_type": "text"
      },
      "source": [
        "<a href=\"https://colab.research.google.com/github/RoshanChongder/IMAGE-PROCESSING-AND-FACIAL-EMOTION-DETECTION/blob/master/confusionMatrix.ipynb\" target=\"_parent\"><img src=\"https://colab.research.google.com/assets/colab-badge.svg\" alt=\"Open In Colab\"/></a>"
      ]
    },
    {
      "cell_type": "markdown",
      "metadata": {
        "id": "7saPqm08VH96"
      },
      "source": [
        "First , we will load the trained model "
      ]
    },
    {
      "cell_type": "code",
      "metadata": {
        "id": "cJjM3O46VTGv"
      },
      "source": [
        "from google.colab import drive\n",
        "drive.mount('/content/drive')"
      ],
      "execution_count": null,
      "outputs": []
    },
    {
      "cell_type": "code",
      "metadata": {
        "id": "Md3chI-LNfdU"
      },
      "source": [
        "# import the required libraries \n",
        "from IPython.display import display, Javascript, Image\n",
        "from google.colab.output import eval_js\n",
        "from base64 import b64decode, b64encode\n",
        "import cv2 , os , time , html \n",
        "import numpy as np\n",
        "import PIL , io\n",
        "from keras.preprocessing import image\n",
        "from keras.models import model_from_json "
      ],
      "execution_count": null,
      "outputs": []
    },
    {
      "cell_type": "code",
      "metadata": {
        "colab": {
          "base_uri": "https://localhost:8080/"
        },
        "id": "HRB1N-yqNnEu",
        "outputId": "b6b9359e-7d65-4be7-faa5-3c0638b760ad"
      },
      "source": [
        "#drive/MyDrive/EmotionDetection/Model_Training_Op/24_06_1/model/\n",
        "model = model_from_json( open('drive/MyDrive/EmotionDetection/Model_Training_Op/24_06_1/model/fer.json','r').read() )\n",
        "# drive/MyDrive/EmotionDetection/Model_Training_Op/24_06_1/model/\n",
        "model.load_weights( 'drive/MyDrive/EmotionDetection/Model_Training_Op/24_06_1/model/fer.h5' )\n",
        "print('The model is been loadded with weights')"
      ],
      "execution_count": null,
      "outputs": [
        {
          "output_type": "stream",
          "text": [
            "The model is been loadded with weights\n"
          ],
          "name": "stdout"
        }
      ]
    },
    {
      "cell_type": "code",
      "metadata": {
        "colab": {
          "base_uri": "https://localhost:8080/"
        },
        "id": "cOfZSdiLz5I_",
        "outputId": "f1f13897-fc6e-4161-cf81-e99f3ce31d41"
      },
      "source": [
        "model.summary()"
      ],
      "execution_count": null,
      "outputs": [
        {
          "output_type": "stream",
          "text": [
            "Model: \"sequential_6\"\n",
            "_________________________________________________________________\n",
            "Layer (type)                 Output Shape              Param #   \n",
            "=================================================================\n",
            "conv2d_36 (Conv2D)           (None, 46, 46, 64)        640       \n",
            "_________________________________________________________________\n",
            "conv2d_37 (Conv2D)           (None, 44, 44, 64)        36928     \n",
            "_________________________________________________________________\n",
            "max_pooling2d_18 (MaxPooling (None, 22, 22, 64)        0         \n",
            "_________________________________________________________________\n",
            "dropout_24 (Dropout)         (None, 22, 22, 64)        0         \n",
            "_________________________________________________________________\n",
            "conv2d_38 (Conv2D)           (None, 20, 20, 64)        36928     \n",
            "_________________________________________________________________\n",
            "conv2d_39 (Conv2D)           (None, 18, 18, 64)        36928     \n",
            "_________________________________________________________________\n",
            "max_pooling2d_19 (MaxPooling (None, 9, 9, 64)          0         \n",
            "_________________________________________________________________\n",
            "dropout_25 (Dropout)         (None, 9, 9, 64)          0         \n",
            "_________________________________________________________________\n",
            "conv2d_40 (Conv2D)           (None, 7, 7, 128)         73856     \n",
            "_________________________________________________________________\n",
            "conv2d_41 (Conv2D)           (None, 5, 5, 128)         147584    \n",
            "_________________________________________________________________\n",
            "max_pooling2d_20 (MaxPooling (None, 2, 2, 128)         0         \n",
            "_________________________________________________________________\n",
            "flatten_6 (Flatten)          (None, 512)               0         \n",
            "_________________________________________________________________\n",
            "dense_18 (Dense)             (None, 512)               262656    \n",
            "_________________________________________________________________\n",
            "dropout_26 (Dropout)         (None, 512)               0         \n",
            "_________________________________________________________________\n",
            "dense_19 (Dense)             (None, 512)               262656    \n",
            "_________________________________________________________________\n",
            "dropout_27 (Dropout)         (None, 512)               0         \n",
            "_________________________________________________________________\n",
            "dense_20 (Dense)             (None, 7)                 3591      \n",
            "=================================================================\n",
            "Total params: 861,767\n",
            "Trainable params: 861,767\n",
            "Non-trainable params: 0\n",
            "_________________________________________________________________\n"
          ],
          "name": "stdout"
        }
      ]
    },
    {
      "cell_type": "code",
      "metadata": {
        "id": "B8OdD7LvN92H"
      },
      "source": [
        "# function to convert the JavaScript object into an OpenCV image\n",
        "def js_to_image(js_reply):\n",
        "  image_bytes = b64decode(js_reply.split(',')[1])\n",
        "  jpg_as_np = np.frombuffer(image_bytes, dtype=np.uint8)\n",
        "  img = cv2.imdecode(jpg_as_np, flags=1)\n",
        "  return img\n",
        "\n",
        "\n",
        "def bbox_to_bytes(bbox_array):\n",
        "  # convert array into PIL image\n",
        "  bbox_PIL = PIL.Image.fromarray(bbox_array, 'RGBA')\n",
        "  iobuf = io.BytesIO()\n",
        "  bbox_PIL.save(iobuf, format='png') # format bbox into png for return\n",
        "  bbox_bytes = 'data:image/png;base64,{}'.format((str(b64encode(iobuf.getvalue()), 'utf-8')))  # format return string\n",
        "\n",
        "  return bbox_bytes\n",
        "  "
      ],
      "execution_count": null,
      "outputs": []
    },
    {
      "cell_type": "code",
      "metadata": {
        "id": "fPphwyLAN-oJ"
      },
      "source": [
        "# Haar Cascade face detection model\n",
        "face_cascade = cv2.CascadeClassifier(cv2.samples.findFile(cv2.data.haarcascades + 'haarcascade_frontalface_default.xml'))"
      ],
      "execution_count": null,
      "outputs": []
    },
    {
      "cell_type": "code",
      "metadata": {
        "id": "cs8Wm3DAOCHx"
      },
      "source": [
        "\n",
        "def take_photo( loc , quality=0.8 ):\n",
        "\n",
        "  ''' This method receives a location of an image .\n",
        "  Then it reads the image and then predicts the emotion of \n",
        "  the face present in the image ''' \n",
        "\n",
        "\n",
        "  # read the image from the drive location that is passed \n",
        "  img = cv2.imread( loc , cv2.IMREAD_COLOR )\n",
        "  \n",
        "  # convertion to grayscale \n",
        "  gray_img = cv2.cvtColor(img, cv2.COLOR_RGB2GRAY)\n",
        "  #print(gray_img.shape)\n",
        "\n",
        "  # get face bounding box coordinates using Haar Cascade\n",
        "  faces = face_cascade.detectMultiScale(gray_img)\n",
        "  \n",
        "  # create transparent overlay for bounding box\n",
        "  bbox_array = np.zeros([480,640,4], dtype=np.uint8)\n",
        "  \n",
        "  predicted = []\n",
        "\n",
        "  # draw face bounding box on image\n",
        "  for (x,y,w,h) in faces:\n",
        "\n",
        "      img = cv2.rectangle(img,(x,y),(x+w,y+h),(255,0,0),2) # placing the rectangle around the face \n",
        "      cropped_gray = gray_img[y:y+w,x:x+h]  # cropping the face from the image \n",
        "      cropped_gray = cv2.resize(cropped_gray,(48,48)) # resizing the image \n",
        "      img_pixels = image.img_to_array(cropped_gray)  # getting the image pixeles into array \n",
        "      img_pixels = np.expand_dims(img_pixels, axis = 0) # expanding dim \n",
        "      img_pixels /= 255\n",
        "\n",
        "      predictions = model.predict(img_pixels)  # predicting \n",
        "        #print( predictions )\n",
        "        #find max indexed array\n",
        "      index = np.argmax(predictions[0]) \n",
        "        \n",
        "      emotions = ('angry', 'disgust', 'fear', 'happy', 'sad', 'surprise', 'neutral')\n",
        "      predicted_emotion = emotions[index]  \n",
        "      predicted.append( index  )\n",
        "      #print( predicted_emotion )\n",
        "      cv2.putText( img, predicted_emotion, (int(x), int(y)), cv2.FONT_HERSHEY_SIMPLEX, 1, (0,0,255), 2)\n",
        " \n",
        "  return [ img , predicted ] "
      ],
      "execution_count": null,
      "outputs": []
    },
    {
      "cell_type": "code",
      "metadata": {
        "colab": {
          "base_uri": "https://localhost:8080/"
        },
        "id": "ywNuhNuqOPZo",
        "outputId": "9ccaa9fe-dc5e-4faa-e06f-e63c985a9aff"
      },
      "source": [
        "# from where all the images will be read \n",
        "directory = 'drive/MyDrive/EmotionDetection/Model_Training_Op/images'   \n",
        "\n",
        "# d is for directory refference and tag  \n",
        "# actual and pre will store actual emotion and predicted emotion \n",
        "d , actual , pre = { \"angry\" : 0 , \"happy\" : 3 , \"sad\" : 4 , \"surprise\" : 5 , \"neutral\" : 6 } , [] , [] \n",
        "\n",
        "for dir in os.listdir(directory) : \n",
        "  tag = None \n",
        "  \n",
        "  if dir in d :\n",
        "    tag = d[dir]  # getting the tag correspondin to the dir  \n",
        "  else :\n",
        "    print( dir , \" not found in \" , d )\n",
        "    break \n",
        "\n",
        "  subdir = os.path.join( directory, dir ) # selecting a certain sub-directory \n",
        "  print( \"Processing the direcotry : \" , subdir , \"\\n\\n\")\n",
        "\n",
        "  for files in os.listdir(subdir) :\n",
        "    try :\n",
        "      name = os.path.join( subdir , files ) # name of the file \n",
        "      if os.path.isfile( name ):\n",
        "        img , predicted = take_photo( name )  # calling take with image location in drive  \n",
        "        if len(predicted) != 0 :\n",
        "          print( \"Actual \" , tag , \"Predicted value \" , predicted )  # printing the predicted value\n",
        "          actual.append(tag) # for debugging \n",
        "          pre.append(  tag if ( tag in predicted ) else predicted[0]  )\n",
        "          print(actual[-1] , pre[-1]) # for debugging \n",
        "          cv2.imwrite( subdir + \"/predicted/\" + files , img  ) \n",
        "        else :\n",
        "          print(\"Model not able to predict for \" , name )\n",
        "    except Exception as err:\n",
        "      # Errors will be thrown if the user does not have a webcam or if they do not\n",
        "      # grant the page permission to access it.\n",
        "      print(str(err))\n",
        "\n",
        "print(actual , pre )\n",
        " "
      ],
      "execution_count": null,
      "outputs": [
        {
          "output_type": "stream",
          "text": [
            "Processing the direcotry :  drive/MyDrive/EmotionDetection/Model_Training_Op/images/happy \n",
            "\n",
            "\n",
            "Actual  3 Predicted value  [3, 4]\n",
            "3 3\n",
            "Actual  3 Predicted value  [3, 6]\n",
            "3 3\n",
            "Actual  3 Predicted value  [3]\n",
            "3 3\n",
            "Actual  3 Predicted value  [3, 6]\n",
            "3 3\n",
            "Actual  3 Predicted value  [0]\n",
            "3 0\n",
            "Actual  3 Predicted value  [3]\n",
            "3 3\n",
            "Actual  3 Predicted value  [3]\n",
            "3 3\n",
            "Actual  3 Predicted value  [3]\n",
            "3 3\n",
            "Actual  3 Predicted value  [3]\n",
            "3 3\n",
            "Model not able to predict for  drive/MyDrive/EmotionDetection/Model_Training_Op/images/happy/happy9.jpg\n",
            "Actual  3 Predicted value  [3]\n",
            "3 3\n",
            "Actual  3 Predicted value  [3]\n",
            "3 3\n",
            "Actual  3 Predicted value  [3, 6, 6, 6, 0, 6, 3, 6]\n",
            "3 3\n",
            "Actual  3 Predicted value  [3, 6]\n",
            "3 3\n",
            "Actual  3 Predicted value  [3, 4]\n",
            "3 3\n",
            "Actual  3 Predicted value  [3]\n",
            "3 3\n",
            "Actual  3 Predicted value  [3]\n",
            "3 3\n",
            "Actual  3 Predicted value  [6]\n",
            "3 6\n",
            "Actual  3 Predicted value  [3]\n",
            "3 3\n",
            "Actual  3 Predicted value  [3]\n",
            "3 3\n",
            "Processing the direcotry :  drive/MyDrive/EmotionDetection/Model_Training_Op/images/angry \n",
            "\n",
            "\n",
            "Actual  0 Predicted value  [0]\n",
            "0 0\n",
            "Actual  0 Predicted value  [0]\n",
            "0 0\n",
            "Actual  0 Predicted value  [6]\n",
            "0 6\n",
            "Actual  0 Predicted value  [6]\n",
            "0 6\n",
            "Actual  0 Predicted value  [0]\n",
            "0 0\n",
            "Actual  0 Predicted value  [0]\n",
            "0 0\n",
            "Actual  0 Predicted value  [0]\n",
            "0 0\n",
            "Actual  0 Predicted value  [6, 6]\n",
            "0 6\n",
            "Actual  0 Predicted value  [0]\n",
            "0 0\n",
            "Actual  0 Predicted value  [3]\n",
            "0 3\n",
            "Actual  0 Predicted value  [4]\n",
            "0 4\n",
            "Actual  0 Predicted value  [6, 6, 4, 6]\n",
            "0 6\n",
            "Actual  0 Predicted value  [0]\n",
            "0 0\n",
            "Processing the direcotry :  drive/MyDrive/EmotionDetection/Model_Training_Op/images/sad \n",
            "\n",
            "\n",
            "Actual  4 Predicted value  [4]\n",
            "4 4\n",
            "Actual  4 Predicted value  [4]\n",
            "4 4\n",
            "Actual  4 Predicted value  [4, 6]\n",
            "4 4\n",
            "Actual  4 Predicted value  [6]\n",
            "4 6\n",
            "Model not able to predict for  drive/MyDrive/EmotionDetection/Model_Training_Op/images/sad/sad6.jpg\n",
            "Model not able to predict for  drive/MyDrive/EmotionDetection/Model_Training_Op/images/sad/sad7.png\n",
            "Actual  4 Predicted value  [3]\n",
            "4 3\n",
            "Actual  4 Predicted value  [4]\n",
            "4 4\n",
            "Actual  4 Predicted value  [6]\n",
            "4 6\n",
            "Actual  4 Predicted value  [4]\n",
            "4 4\n",
            "Actual  4 Predicted value  [3]\n",
            "4 3\n",
            "Actual  4 Predicted value  [4]\n",
            "4 4\n",
            "Actual  4 Predicted value  [6, 4, 6, 6]\n",
            "4 4\n",
            "Actual  4 Predicted value  [4]\n",
            "4 4\n",
            "Actual  4 Predicted value  [4]\n",
            "4 4\n",
            "Actual  4 Predicted value  [4]\n",
            "4 4\n",
            "Processing the direcotry :  drive/MyDrive/EmotionDetection/Model_Training_Op/images/neutral \n",
            "\n",
            "\n",
            "Actual  6 Predicted value  [6]\n",
            "6 6\n",
            "Actual  6 Predicted value  [6]\n",
            "6 6\n",
            "Actual  6 Predicted value  [6, 6]\n",
            "6 6\n",
            "Actual  6 Predicted value  [6]\n",
            "6 6\n",
            "Actual  6 Predicted value  [6]\n",
            "6 6\n",
            "Actual  6 Predicted value  [4]\n",
            "6 4\n",
            "Actual  6 Predicted value  [6, 6, 6]\n",
            "6 6\n",
            "Actual  6 Predicted value  [6, 6, 6, 6, 6, 6, 6, 6]\n",
            "6 6\n",
            "Actual  6 Predicted value  [6, 6]\n",
            "6 6\n",
            "Actual  6 Predicted value  [6]\n",
            "6 6\n",
            "Actual  6 Predicted value  [5]\n",
            "6 5\n",
            "Actual  6 Predicted value  [6]\n",
            "6 6\n",
            "Actual  6 Predicted value  [6]\n",
            "6 6\n",
            "Actual  6 Predicted value  [0, 6, 6]\n",
            "6 6\n",
            "Actual  6 Predicted value  [6]\n",
            "6 6\n",
            "Actual  6 Predicted value  [6]\n",
            "6 6\n",
            "Actual  6 Predicted value  [0]\n",
            "6 0\n",
            "Actual  6 Predicted value  [3]\n",
            "6 3\n",
            "Actual  6 Predicted value  [6, 3]\n",
            "6 6\n",
            "Processing the direcotry :  drive/MyDrive/EmotionDetection/Model_Training_Op/images/surprise \n",
            "\n",
            "\n",
            "Actual  5 Predicted value  [6, 6]\n",
            "5 6\n",
            "Actual  5 Predicted value  [6, 5, 6]\n",
            "5 5\n",
            "Actual  5 Predicted value  [5]\n",
            "5 5\n",
            "Actual  5 Predicted value  [5]\n",
            "5 5\n",
            "Actual  5 Predicted value  [5]\n",
            "5 5\n",
            "Actual  5 Predicted value  [5]\n",
            "5 5\n",
            "Actual  5 Predicted value  [6, 6]\n",
            "5 6\n",
            "Actual  5 Predicted value  [6, 6]\n",
            "5 6\n",
            "Actual  5 Predicted value  [6]\n",
            "5 6\n",
            "[3, 3, 3, 3, 3, 3, 3, 3, 3, 3, 3, 3, 3, 3, 3, 3, 3, 3, 3, 0, 0, 0, 0, 0, 0, 0, 0, 0, 0, 0, 0, 0, 4, 4, 4, 4, 4, 4, 4, 4, 4, 4, 4, 4, 4, 4, 6, 6, 6, 6, 6, 6, 6, 6, 6, 6, 6, 6, 6, 6, 6, 6, 6, 6, 6, 5, 5, 5, 5, 5, 5, 5, 5, 5] [3, 3, 3, 3, 0, 3, 3, 3, 3, 3, 3, 3, 3, 3, 3, 3, 6, 3, 3, 0, 0, 6, 6, 0, 0, 0, 6, 0, 3, 4, 6, 0, 4, 4, 4, 6, 3, 4, 6, 4, 3, 4, 4, 4, 4, 4, 6, 6, 6, 6, 6, 4, 6, 6, 6, 6, 5, 6, 6, 6, 6, 6, 0, 3, 6, 6, 5, 5, 5, 5, 5, 6, 6, 6]\n"
          ],
          "name": "stdout"
        }
      ]
    },
    {
      "cell_type": "code",
      "metadata": {
        "colab": {
          "base_uri": "https://localhost:8080/"
        },
        "id": "cyFYHuxfb-O3",
        "outputId": "6c8f67a5-0208-4392-b3c4-e70aa6d9d8a8"
      },
      "source": [
        "print(actual)\n",
        "print(pre)"
      ],
      "execution_count": null,
      "outputs": [
        {
          "output_type": "stream",
          "text": [
            "[3, 3, 3, 3, 3, 3, 3, 3, 3, 3, 3, 3, 3, 3, 3, 3, 3, 3, 3, 0, 0, 0, 0, 0, 0, 0, 0, 0, 0, 0, 0, 0, 4, 4, 4, 4, 4, 4, 4, 4, 4, 4, 4, 4, 4, 4, 6, 6, 6, 6, 6, 6, 6, 6, 6, 6, 6, 6, 6, 6, 6, 6, 6, 6, 6, 5, 5, 5, 5, 5, 5, 5, 5, 5]\n",
            "[3, 3, 3, 3, 0, 3, 3, 3, 3, 3, 3, 3, 3, 3, 3, 3, 6, 3, 3, 0, 0, 6, 6, 0, 0, 0, 6, 0, 3, 4, 6, 0, 4, 4, 4, 6, 3, 4, 6, 4, 3, 4, 4, 4, 4, 4, 6, 6, 6, 6, 6, 4, 6, 6, 6, 6, 5, 6, 6, 6, 6, 6, 0, 3, 6, 6, 5, 5, 5, 5, 5, 6, 6, 6]\n"
          ],
          "name": "stdout"
        }
      ]
    },
    {
      "cell_type": "code",
      "metadata": {
        "id": "34RqZyl9cWqz"
      },
      "source": [
        "%matplotlib inline \n",
        "import matplotlib.pyplot as plt  \n",
        "import itertools \n",
        "from sklearn.metrics import confusion_matrix"
      ],
      "execution_count": null,
      "outputs": []
    },
    {
      "cell_type": "code",
      "metadata": {
        "id": "SkD3r0mOdZZJ"
      },
      "source": [
        "c_matrix = confusion_matrix(y_true = actual , y_pred = pre )"
      ],
      "execution_count": null,
      "outputs": []
    },
    {
      "cell_type": "code",
      "metadata": {
        "id": "WCJnZqt-dnsN"
      },
      "source": [
        "def plot_confusion_matrix( cm, classes, normalize=False, title='Confusion matrix', cmap=plt.cm.Blues):\n",
        "    \"\"\"\n",
        "    This function prints and plots the confusion matrix.\n",
        "    Normalization can be applied by setting `normalize=True`.\n",
        "    \"\"\"\n",
        "    plt.imshow(cm, interpolation='nearest', cmap=cmap)\n",
        "    plt.colorbar()\n",
        "    plt.title(title)\n",
        "    tick_marks = np.arange(len(classes))\n",
        "    plt.xticks(tick_marks, classes, rotation=45)\n",
        "    plt.yticks(tick_marks, classes)\n",
        "\n",
        "    if normalize:\n",
        "        cm = cm.astype('float') / cm.sum(axis=1)[:, np.newaxis]\n",
        "        print(\"Normalized confusion matrix\")\n",
        "    else:\n",
        "        print('Confusion matrix, without normalization')\n",
        "\n",
        "    print(cm)\n",
        "\n",
        "    thresh = cm.max() / 2.\n",
        "    for i, j in itertools.product(range(cm.shape[0]), range(cm.shape[1])):\n",
        "        plt.text(j, i, cm[i, j],\n",
        "            horizontalalignment=\"center\",\n",
        "            color=\"white\" if cm[i, j] > thresh else \"black\")\n",
        "\n",
        "    plt.tight_layout()\n",
        "    plt.ylabel('True label')\n",
        "    plt.xlabel('Predicted label')"
      ],
      "execution_count": null,
      "outputs": []
    },
    {
      "cell_type": "code",
      "metadata": {
        "id": "9UrxkJ0RebTm",
        "colab": {
          "base_uri": "https://localhost:8080/"
        },
        "outputId": "e4c75a9d-7f27-4553-a282-a251ac57f410"
      },
      "source": [
        "plot_labels = ['angry', 'happy', 'sad', 'surprise', 'neutral']\n",
        "print(type(c_matrix))"
      ],
      "execution_count": null,
      "outputs": [
        {
          "output_type": "stream",
          "text": [
            "<class 'numpy.ndarray'>\n"
          ],
          "name": "stdout"
        }
      ]
    },
    {
      "cell_type": "code",
      "metadata": {
        "id": "JPUoJFXhekoF",
        "colab": {
          "base_uri": "https://localhost:8080/",
          "height": 412
        },
        "outputId": "5f813888-892f-4167-b00b-aefd0b15ae2f"
      },
      "source": [
        "plot_confusion_matrix( cm = c_matrix , classes = plot_labels , title='Confusion Matrix' )"
      ],
      "execution_count": null,
      "outputs": [
        {
          "output_type": "stream",
          "text": [
            "Confusion matrix, without normalization\n",
            "[[ 7  1  1  0  4]\n",
            " [ 1 17  0  0  1]\n",
            " [ 0  2 10  0  2]\n",
            " [ 0  0  0  5  4]\n",
            " [ 1  1  1  1 15]]\n"
          ],
          "name": "stdout"
        },
        {
          "output_type": "display_data",
          "data": {
            "image/png": "[encoded data removed]",
            "text/plain": [
              "<Figure size 432x288 with 2 Axes>"
            ]
          },
          "metadata": {
            "tags": [],
            "needs_background": "light"
          }
        }
      ]
    },
    {
      "cell_type": "code",
      "metadata": {
        "colab": {
          "base_uri": "https://localhost:8080/"
        },
        "id": "E4IlmbWXKzci",
        "outputId": "de50b7bc-480c-469f-9646-191fe1597144"
      },
      "source": [
        "print(c_matrix)"
      ],
      "execution_count": null,
      "outputs": [
        {
          "output_type": "stream",
          "text": [
            "[[ 7  1  1  0  4]\n",
            " [ 1 17  0  0  1]\n",
            " [ 0  2 10  0  2]\n",
            " [ 0  0  0  5  4]\n",
            " [ 1  1  1  1 15]]\n"
          ],
          "name": "stdout"
        }
      ]
    },
    {
      "cell_type": "code",
      "metadata": {
        "colab": {
          "base_uri": "https://localhost:8080/"
        },
        "id": "M9_wh8wNmBuC",
        "outputId": "cf3b14c7-8da4-4f24-cb99-26e9ef1408e6"
      },
      "source": [
        "# from sklearn.metrics import precision_score\n",
        "# from sklearn.metrics import recall_score\n",
        "# from sklearn.metrics import fbeta_score\n",
        "# from sklearn.metrics import accuracy_score\n",
        "\n",
        "# lambda method for main 4 terms - TP , TN , FP and FN \n",
        "TruePositive = lambda conf_mat : sum( [ conf_mat[i][i] for i in range(len(conf_mat)) ] )\n",
        "TrueNegative = TruePositive   # as both will be the same case \n",
        "FalsePositive = lambda conf_mat : sum( [ conf_mat[i][j] for i in range(len(conf_mat))  for j in range(len(conf_mat)) ] ) - TruePositive(conf_mat)\n",
        "FalseNegative = FalsePositive # as both will be the same cse \n",
        "TotalSample = lambda conf_mat : sum( [ conf_mat[i][j] for i in range(len(conf_mat))  for j in range(len(conf_mat)) ] )\n",
        "\n",
        "print( \"True Positive : \" , TruePositive(c_matrix) , \"\\nTrue Negative : \" , TrueNegative(c_matrix) )\n",
        "print( \"False Positive : \" , FalsePositive(c_matrix) , \"\\nFalse Negative : \" , FalseNegative(c_matrix) )\n",
        "print( \"Total Sample : \" , TotalSample(c_matrix)  )\n",
        "\n",
        "# precession - sum of tp accross all class / sum of ( TP and FN across all class)\n",
        "# precession - TP / ( TP + FN )\n",
        "precession = TruePositive(c_matrix) / ( TruePositive(c_matrix) + FalseNegative(c_matrix) )\n",
        "print(\"Precession \" , precession )\n",
        "#print( precision_score( actual, pre , average = 'micro' ) )\n",
        "\n",
        "\n",
        "\n",
        "# recall - sum of tp accross all class / sum of ( TP and FN across all class)\n",
        "# recall - TP / ( TP + FN )\n",
        "recall = TruePositive(c_matrix) / ( TruePositive(c_matrix) + FalseNegative(c_matrix) )\n",
        "print(\"Recall \" , precession )\n",
        "#print( recall_score( actual, pre , average = 'micro' ) )\n",
        "\n",
        "\n",
        "# F2 score - (5*precession*recall) / (4*precession+recall) \n",
        "f2_score = (5*precession*recall) / (4*precession+recall) \n",
        "print(\"F2 score \" , f2_score )\n",
        "#print( fbeta_score(actual, pre , beta = 2.0 , average = 'micro' ) )\n",
        "\n",
        "\n",
        "# accuracy \n",
        "accuracy = TruePositive(c_matrix) / TotalSample(c_matrix) \n",
        "print('Accuracy : ' , accuracy )\n",
        "#print( accuracy_score( actual, pre ) )\n"
      ],
      "execution_count": null,
      "outputs": [
        {
          "output_type": "stream",
          "text": [
            "True Positive :  54 \n",
            "True Negative :  54\n",
            "False Positive :  20 \n",
            "False Negative :  20\n",
            "Total Sample :  74\n",
            "Precession  0.7297297297297297\n",
            "0.7297297297297297\n",
            "Recall  0.7297297297297297\n",
            "0.7297297297297297\n",
            "F2 score  0.7297297297297297\n",
            "0.7297297297297297\n",
            "Accuracy :  0.7297297297297297\n",
            "0.7297297297297297\n"
          ],
          "name": "stdout"
        }
      ]
    },
    {
      "cell_type": "markdown",
      "metadata": {
        "id": "bHCvZnwErzzn"
      },
      "source": [
        "Plotting confusion matrix in percentage form "
      ]
    },
    {
      "cell_type": "code",
      "metadata": {
        "colab": {
          "base_uri": "https://localhost:8080/",
          "height": 412
        },
        "id": "daK0umh_r4e_",
        "outputId": "d879df99-2344-43ed-b494-7b93bbba6428"
      },
      "source": [
        "# this can also be done using the sklearn library \n",
        "def percent_confusion_matrix( cm ) :\n",
        "  pcm = []   # confusion matrix in percentage \n",
        "  for i in cm :\n",
        "    total_images , temp = sum(i) , [] \n",
        "    for j in i :\n",
        "      temp.append(round(j/total_images , 2 ) )\n",
        "    pcm.append(temp)\n",
        "  return pcm\n",
        "plot_confusion_matrix( cm = np.array(percent_confusion_matrix(c_matrix)) , classes = plot_labels , title=' Confusion Matrix in percentage ' )"
      ],
      "execution_count": null,
      "outputs": [
        {
          "output_type": "stream",
          "text": [
            "Confusion matrix, without normalization\n",
            "[[0.54 0.08 0.08 0.   0.31]\n",
            " [0.05 0.89 0.   0.   0.05]\n",
            " [0.   0.14 0.71 0.   0.14]\n",
            " [0.   0.   0.   0.56 0.44]\n",
            " [0.05 0.05 0.05 0.05 0.79]]\n"
          ],
          "name": "stdout"
        },
        {
          "output_type": "display_data",
          "data": {
            "image/png": "[encoded data removed]",
            "text/plain": [
              "<Figure size 432x288 with 2 Axes>"
            ]
          },
          "metadata": {
            "tags": [],
            "needs_background": "light"
          }
        }
      ]
    },
    {
      "cell_type": "markdown",
      "metadata": {
        "id": "oh6hDs2RyRva"
      },
      "source": [
        "Computing the same using sklearn "
      ]
    },
    {
      "cell_type": "code",
      "metadata": {
        "colab": {
          "base_uri": "https://localhost:8080/"
        },
        "id": "GC15RR9vwbKw",
        "outputId": "fcda1d26-c67b-45c5-e81a-773cb48834f9"
      },
      "source": [
        "nc_matrix = confusion_matrix( y_true = actual , y_pred = pre , normalize = 'true' )\n",
        "print(nc_matrix)"
      ],
      "execution_count": null,
      "outputs": [
        {
          "output_type": "stream",
          "text": [
            "[[0.53846154 0.07692308 0.07692308 0.         0.30769231]\n",
            " [0.05263158 0.89473684 0.         0.         0.05263158]\n",
            " [0.         0.14285714 0.71428571 0.         0.14285714]\n",
            " [0.         0.         0.         0.55555556 0.44444444]\n",
            " [0.05263158 0.05263158 0.05263158 0.05263158 0.78947368]]\n"
          ],
          "name": "stdout"
        }
      ]
    }
  ]
}